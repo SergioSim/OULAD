{
 "cells": [
  {
   "cell_type": "markdown",
   "metadata": {},
   "source": [
    "# Prediction\n",
    "Here we try to train a model on (the first 14 days of) a course of year N and then predict the success/failure for the same course of year N+1 (after 14 days passed)"
   ]
  },
  {
   "cell_type": "code",
   "execution_count": 53,
   "metadata": {},
   "outputs": [],
   "source": [
    "import numpy as np\n",
    "import pandas as pd\n",
    "from sklearn.ensemble import (AdaBoostClassifier, BaggingClassifier, \n",
    "                              GradientBoostingClassifier, RandomForestClassifier)\n",
    "from sklearn.linear_model import LinearRegression, LogisticRegression\n",
    "from sklearn.metrics import (accuracy_score, confusion_matrix, precision_score,\n",
    "                            recall_score, f1_score)\n",
    "from sklearn.neighbors import KNeighborsClassifier as KNN\n",
    "from sklearn.preprocessing import MinMaxScaler\n",
    "from sklearn.tree import DecisionTreeClassifier"
   ]
  },
  {
   "cell_type": "code",
   "execution_count": 8,
   "metadata": {},
   "outputs": [],
   "source": [
    "from tools.load_oulad import dataset_dict\n",
    "from tools.validation_oulad import customClusteringScore\n",
    "import tools.filter_oulad as filter_oulad"
   ]
  },
  {
   "cell_type": "markdown",
   "metadata": {},
   "source": [
    "### Selecting the data"
   ]
  },
  {
   "cell_type": "code",
   "execution_count": 9,
   "metadata": {},
   "outputs": [],
   "source": [
    "code_module = 'AAA'\n",
    "scaler = MinMaxScaler()"
   ]
  },
  {
   "cell_type": "markdown",
   "metadata": {},
   "source": [
    "#### Training data"
   ]
  },
  {
   "cell_type": "code",
   "execution_count": 10,
   "metadata": {},
   "outputs": [],
   "source": [
    "code_presentation = '2013J'\n",
    "\n",
    "oneTrainingCourse = filter_oulad.getOneCourse(dataset_dict, code_module, code_presentation)\n",
    "training_final_df = filter_oulad.restructure(oneTrainingCourse, 14)\n",
    "training_encoders = filter_oulad.cleanAndMap(training_final_df)\n",
    "\n",
    "trainX = training_final_df.drop(['final_result_first'], axis=1)\n",
    "trainX = scaler.fit_transform(trainX)\n",
    "trainY = training_final_df['final_result_first']"
   ]
  },
  {
   "cell_type": "markdown",
   "metadata": {},
   "source": [
    "#### Validation data"
   ]
  },
  {
   "cell_type": "code",
   "execution_count": 11,
   "metadata": {},
   "outputs": [],
   "source": [
    "code_presentation = '2014J'\n",
    "\n",
    "oneTestCourse = filter_oulad.getOneCourse(dataset_dict, code_module, code_presentation)\n",
    "testing_final_df = filter_oulad.restructure(oneTestCourse, 14)\n",
    "testing_encoders = filter_oulad.cleanAndMap(testing_final_df)\n",
    "\n",
    "testX = testing_final_df.drop(['final_result_first'], axis=1)\n",
    "testX = scaler.fit_transform(testX)\n",
    "testY = testing_final_df['final_result_first']"
   ]
  },
  {
   "cell_type": "markdown",
   "metadata": {},
   "source": [
    "#### Confusion Matrix row/column names"
   ]
  },
  {
   "cell_type": "code",
   "execution_count": 22,
   "metadata": {},
   "outputs": [],
   "source": [
    "arrays = [['Prediction']*4, \\\n",
    "          ['Withdrawn', 'Fail', 'Pass', 'Distinction']]\n",
    "tuples = list(zip(*arrays))\n",
    "index1 = pd.MultiIndex.from_tuples(tuples, names=['',''])\n",
    "arrays = [['Truth']*4, \\\n",
    "          ['Withdrawn', 'Fail', 'Pass', 'Distinction']]\n",
    "tuples = list(zip(*arrays))\n",
    "index2 = pd.MultiIndex.from_tuples(tuples, names=['',''])"
   ]
  },
  {
   "cell_type": "markdown",
   "metadata": {},
   "source": [
    "#### Training and result displaying helper function"
   ]
  },
  {
   "cell_type": "code",
   "execution_count": 69,
   "metadata": {},
   "outputs": [],
   "source": [
    "def train_and_show_results(model):\n",
    "    model.fit(X=trainX, y=trainY)\n",
    "    predictionY = model.predict(testX)\n",
    "    predictionY = pd.Series(predictionY, index=testY.index, name=\"model\")\n",
    "    print(' Accuracy Score = {0:.2f}'.format(accuracy_score(testY, predictionY)))\n",
    "    print('Precision Score = {0:.2f}'.format(precision_score(testY, predictionY, \n",
    "                                                             average='macro')))\n",
    "    print('   Recall Score = {0:.2f}'.format(recall_score(testY, predictionY, \n",
    "                                                          average='macro')))\n",
    "    print('       F1 Score = {0:.2f}'.format(f1_score(testY, predictionY, average='macro')))\n",
    "    print('    CustomScore = {0:.2f}'.format(customClusteringScore(predictionY, testY)))\n",
    "    display(pd.DataFrame(confusion_matrix(testY, predictionY, labels=[0,1,2,3]), \\\n",
    "                 columns=index1, index=index2))"
   ]
  },
  {
   "cell_type": "markdown",
   "metadata": {},
   "source": [
    "#### Linear Regression\n",
    "Yes, probably this makes no sense at all because we are trying to predict a categorical variable ('Distinction', 'Pass', 'Fail', 'Withdrawn') ... \n",
    "but let's try it in any case :)\n"
   ]
  },
  {
   "cell_type": "code",
   "execution_count": 70,
   "metadata": {},
   "outputs": [
    {
     "name": "stdout",
     "output_type": "stream",
     "text": [
      "Mean accuracy 66.86\n",
      "R2 score = 0.4673\n",
      "CustomScore = 0.6\n"
     ]
    },
    {
     "data": {
      "text/html": [
       "<div>\n",
       "<style scoped>\n",
       "    .dataframe tbody tr th:only-of-type {\n",
       "        vertical-align: middle;\n",
       "    }\n",
       "\n",
       "    .dataframe tbody tr th {\n",
       "        vertical-align: top;\n",
       "    }\n",
       "\n",
       "    .dataframe thead tr th {\n",
       "        text-align: left;\n",
       "    }\n",
       "\n",
       "    .dataframe thead tr:last-of-type th {\n",
       "        text-align: right;\n",
       "    }\n",
       "</style>\n",
       "<table border=\"1\" class=\"dataframe\">\n",
       "  <thead>\n",
       "    <tr>\n",
       "      <th></th>\n",
       "      <th></th>\n",
       "      <th colspan=\"4\" halign=\"left\">Prediction</th>\n",
       "    </tr>\n",
       "    <tr>\n",
       "      <th></th>\n",
       "      <th></th>\n",
       "      <th>Withdrawn</th>\n",
       "      <th>Fail</th>\n",
       "      <th>Pass</th>\n",
       "      <th>Distinction</th>\n",
       "    </tr>\n",
       "    <tr>\n",
       "      <th></th>\n",
       "      <th></th>\n",
       "      <th></th>\n",
       "      <th></th>\n",
       "      <th></th>\n",
       "      <th></th>\n",
       "    </tr>\n",
       "  </thead>\n",
       "  <tbody>\n",
       "    <tr>\n",
       "      <th rowspan=\"4\" valign=\"top\">Truth</th>\n",
       "      <th>Withdrawn</th>\n",
       "      <td>27</td>\n",
       "      <td>25</td>\n",
       "      <td>0</td>\n",
       "      <td>0</td>\n",
       "    </tr>\n",
       "    <tr>\n",
       "      <th>Fail</th>\n",
       "      <td>0</td>\n",
       "      <td>15</td>\n",
       "      <td>30</td>\n",
       "      <td>0</td>\n",
       "    </tr>\n",
       "    <tr>\n",
       "      <th>Pass</th>\n",
       "      <td>0</td>\n",
       "      <td>37</td>\n",
       "      <td>192</td>\n",
       "      <td>0</td>\n",
       "    </tr>\n",
       "    <tr>\n",
       "      <th>Distinction</th>\n",
       "      <td>0</td>\n",
       "      <td>4</td>\n",
       "      <td>20</td>\n",
       "      <td>0</td>\n",
       "    </tr>\n",
       "  </tbody>\n",
       "</table>\n",
       "</div>"
      ],
      "text/plain": [
       "                  Prediction                      \n",
       "                   Withdrawn Fail Pass Distinction\n",
       "                                                  \n",
       "Truth Withdrawn           27   25    0           0\n",
       "      Fail                 0   15   30           0\n",
       "      Pass                 0   37  192           0\n",
       "      Distinction          0    4   20           0"
      ]
     },
     "execution_count": 70,
     "metadata": {},
     "output_type": "execute_result"
    }
   ],
   "source": [
    "model = LinearRegression()\n",
    "model.fit(trainX, trainY)\n",
    "predictionY = model.predict(testX)\n",
    "predictionY[predictionY>=2.5] = 3\n",
    "predictionY[predictionY<0.5] = 0\n",
    "predictionY[(predictionY>=0.5) & (predictionY<=1.5)] = 1\n",
    "predictionY[(predictionY>1.5) & (predictionY<2.5)] = 2\n",
    "predictionY = pd.Series(predictionY, index=testY.index, name=\"LinR\")\n",
    "print(f'Mean accuracy {round(100*sum(predictionY == testY)/len(testY), 2)}')\n",
    "r2 = model.score(testX, testY)\n",
    "print(f'R2 score = {r2:0.4f}')\n",
    "print('CustomScore = {}'.format(customClusteringScore(predictionY, testY)))\n",
    "pd.DataFrame(confusion_matrix(testY, predictionY, labels=[0,1,2,3]), \\\n",
    "             columns=index1, index=index2)"
   ]
  },
  {
   "cell_type": "markdown",
   "metadata": {},
   "source": [
    "#### Logistic Regression"
   ]
  },
  {
   "cell_type": "code",
   "execution_count": 71,
   "metadata": {},
   "outputs": [
    {
     "name": "stdout",
     "output_type": "stream",
     "text": [
      " Accuracy Score = 0.76\n",
      "Precision Score = 0.52\n",
      "   Recall Score = 0.45\n",
      "       F1 Score = 0.45\n",
      "    CustomScore = 0.68\n"
     ]
    },
    {
     "data": {
      "text/html": [
       "<div>\n",
       "<style scoped>\n",
       "    .dataframe tbody tr th:only-of-type {\n",
       "        vertical-align: middle;\n",
       "    }\n",
       "\n",
       "    .dataframe tbody tr th {\n",
       "        vertical-align: top;\n",
       "    }\n",
       "\n",
       "    .dataframe thead tr th {\n",
       "        text-align: left;\n",
       "    }\n",
       "\n",
       "    .dataframe thead tr:last-of-type th {\n",
       "        text-align: right;\n",
       "    }\n",
       "</style>\n",
       "<table border=\"1\" class=\"dataframe\">\n",
       "  <thead>\n",
       "    <tr>\n",
       "      <th></th>\n",
       "      <th></th>\n",
       "      <th colspan=\"4\" halign=\"left\">Prediction</th>\n",
       "    </tr>\n",
       "    <tr>\n",
       "      <th></th>\n",
       "      <th></th>\n",
       "      <th>Withdrawn</th>\n",
       "      <th>Fail</th>\n",
       "      <th>Pass</th>\n",
       "      <th>Distinction</th>\n",
       "    </tr>\n",
       "    <tr>\n",
       "      <th></th>\n",
       "      <th></th>\n",
       "      <th></th>\n",
       "      <th></th>\n",
       "      <th></th>\n",
       "      <th></th>\n",
       "    </tr>\n",
       "  </thead>\n",
       "  <tbody>\n",
       "    <tr>\n",
       "      <th rowspan=\"4\" valign=\"top\">Truth</th>\n",
       "      <th>Withdrawn</th>\n",
       "      <td>41</td>\n",
       "      <td>0</td>\n",
       "      <td>11</td>\n",
       "      <td>0</td>\n",
       "    </tr>\n",
       "    <tr>\n",
       "      <th>Fail</th>\n",
       "      <td>0</td>\n",
       "      <td>2</td>\n",
       "      <td>43</td>\n",
       "      <td>0</td>\n",
       "    </tr>\n",
       "    <tr>\n",
       "      <th>Pass</th>\n",
       "      <td>0</td>\n",
       "      <td>4</td>\n",
       "      <td>223</td>\n",
       "      <td>2</td>\n",
       "    </tr>\n",
       "    <tr>\n",
       "      <th>Distinction</th>\n",
       "      <td>0</td>\n",
       "      <td>0</td>\n",
       "      <td>24</td>\n",
       "      <td>0</td>\n",
       "    </tr>\n",
       "  </tbody>\n",
       "</table>\n",
       "</div>"
      ],
      "text/plain": [
       "                  Prediction                      \n",
       "                   Withdrawn Fail Pass Distinction\n",
       "                                                  \n",
       "Truth Withdrawn           41    0   11           0\n",
       "      Fail                 0    2   43           0\n",
       "      Pass                 0    4  223           2\n",
       "      Distinction          0    0   24           0"
      ]
     },
     "metadata": {},
     "output_type": "display_data"
    }
   ],
   "source": [
    "model = LogisticRegression()\n",
    "train_and_show_results(model)"
   ]
  },
  {
   "cell_type": "markdown",
   "metadata": {},
   "source": [
    "#### KNeighbors Classifier"
   ]
  },
  {
   "cell_type": "code",
   "execution_count": 72,
   "metadata": {},
   "outputs": [
    {
     "name": "stdout",
     "output_type": "stream",
     "text": [
      " Accuracy Score = 0.69\n",
      "Precision Score = 0.42\n",
      "   Recall Score = 0.34\n",
      "       F1 Score = 0.34\n",
      "    CustomScore = 0.55\n"
     ]
    },
    {
     "name": "stderr",
     "output_type": "stream",
     "text": [
      "/home/katzenmaul/.local/lib/python3.6/site-packages/sklearn/metrics/_classification.py:1272: UndefinedMetricWarning: Precision is ill-defined and being set to 0.0 in labels with no predicted samples. Use `zero_division` parameter to control this behavior.\n",
      "  _warn_prf(average, modifier, msg_start, len(result))\n"
     ]
    },
    {
     "data": {
      "text/html": [
       "<div>\n",
       "<style scoped>\n",
       "    .dataframe tbody tr th:only-of-type {\n",
       "        vertical-align: middle;\n",
       "    }\n",
       "\n",
       "    .dataframe tbody tr th {\n",
       "        vertical-align: top;\n",
       "    }\n",
       "\n",
       "    .dataframe thead tr th {\n",
       "        text-align: left;\n",
       "    }\n",
       "\n",
       "    .dataframe thead tr:last-of-type th {\n",
       "        text-align: right;\n",
       "    }\n",
       "</style>\n",
       "<table border=\"1\" class=\"dataframe\">\n",
       "  <thead>\n",
       "    <tr>\n",
       "      <th></th>\n",
       "      <th></th>\n",
       "      <th colspan=\"4\" halign=\"left\">Prediction</th>\n",
       "    </tr>\n",
       "    <tr>\n",
       "      <th></th>\n",
       "      <th></th>\n",
       "      <th>Withdrawn</th>\n",
       "      <th>Fail</th>\n",
       "      <th>Pass</th>\n",
       "      <th>Distinction</th>\n",
       "    </tr>\n",
       "    <tr>\n",
       "      <th></th>\n",
       "      <th></th>\n",
       "      <th></th>\n",
       "      <th></th>\n",
       "      <th></th>\n",
       "      <th></th>\n",
       "    </tr>\n",
       "  </thead>\n",
       "  <tbody>\n",
       "    <tr>\n",
       "      <th rowspan=\"4\" valign=\"top\">Truth</th>\n",
       "      <th>Withdrawn</th>\n",
       "      <td>19</td>\n",
       "      <td>1</td>\n",
       "      <td>32</td>\n",
       "      <td>0</td>\n",
       "    </tr>\n",
       "    <tr>\n",
       "      <th>Fail</th>\n",
       "      <td>0</td>\n",
       "      <td>0</td>\n",
       "      <td>45</td>\n",
       "      <td>0</td>\n",
       "    </tr>\n",
       "    <tr>\n",
       "      <th>Pass</th>\n",
       "      <td>0</td>\n",
       "      <td>5</td>\n",
       "      <td>224</td>\n",
       "      <td>0</td>\n",
       "    </tr>\n",
       "    <tr>\n",
       "      <th>Distinction</th>\n",
       "      <td>0</td>\n",
       "      <td>0</td>\n",
       "      <td>24</td>\n",
       "      <td>0</td>\n",
       "    </tr>\n",
       "  </tbody>\n",
       "</table>\n",
       "</div>"
      ],
      "text/plain": [
       "                  Prediction                      \n",
       "                   Withdrawn Fail Pass Distinction\n",
       "                                                  \n",
       "Truth Withdrawn           19    1   32           0\n",
       "      Fail                 0    0   45           0\n",
       "      Pass                 0    5  224           0\n",
       "      Distinction          0    0   24           0"
      ]
     },
     "metadata": {},
     "output_type": "display_data"
    }
   ],
   "source": [
    "model = KNN(n_neighbors=11)\n",
    "train_and_show_results(model)"
   ]
  },
  {
   "cell_type": "markdown",
   "metadata": {},
   "source": [
    "#### Decision Tree"
   ]
  },
  {
   "cell_type": "code",
   "execution_count": 73,
   "metadata": {},
   "outputs": [
    {
     "name": "stdout",
     "output_type": "stream",
     "text": [
      " Accuracy Score = 0.60\n",
      "Precision Score = 0.51\n",
      "   Recall Score = 0.55\n",
      "       F1 Score = 0.50\n",
      "    CustomScore = 0.74\n"
     ]
    },
    {
     "data": {
      "text/html": [
       "<div>\n",
       "<style scoped>\n",
       "    .dataframe tbody tr th:only-of-type {\n",
       "        vertical-align: middle;\n",
       "    }\n",
       "\n",
       "    .dataframe tbody tr th {\n",
       "        vertical-align: top;\n",
       "    }\n",
       "\n",
       "    .dataframe thead tr th {\n",
       "        text-align: left;\n",
       "    }\n",
       "\n",
       "    .dataframe thead tr:last-of-type th {\n",
       "        text-align: right;\n",
       "    }\n",
       "</style>\n",
       "<table border=\"1\" class=\"dataframe\">\n",
       "  <thead>\n",
       "    <tr>\n",
       "      <th></th>\n",
       "      <th></th>\n",
       "      <th colspan=\"4\" halign=\"left\">Prediction</th>\n",
       "    </tr>\n",
       "    <tr>\n",
       "      <th></th>\n",
       "      <th></th>\n",
       "      <th>Withdrawn</th>\n",
       "      <th>Fail</th>\n",
       "      <th>Pass</th>\n",
       "      <th>Distinction</th>\n",
       "    </tr>\n",
       "    <tr>\n",
       "      <th></th>\n",
       "      <th></th>\n",
       "      <th></th>\n",
       "      <th></th>\n",
       "      <th></th>\n",
       "      <th></th>\n",
       "    </tr>\n",
       "  </thead>\n",
       "  <tbody>\n",
       "    <tr>\n",
       "      <th rowspan=\"4\" valign=\"top\">Truth</th>\n",
       "      <th>Withdrawn</th>\n",
       "      <td>52</td>\n",
       "      <td>0</td>\n",
       "      <td>0</td>\n",
       "      <td>0</td>\n",
       "    </tr>\n",
       "    <tr>\n",
       "      <th>Fail</th>\n",
       "      <td>0</td>\n",
       "      <td>28</td>\n",
       "      <td>16</td>\n",
       "      <td>1</td>\n",
       "    </tr>\n",
       "    <tr>\n",
       "      <th>Pass</th>\n",
       "      <td>0</td>\n",
       "      <td>89</td>\n",
       "      <td>129</td>\n",
       "      <td>11</td>\n",
       "    </tr>\n",
       "    <tr>\n",
       "      <th>Distinction</th>\n",
       "      <td>0</td>\n",
       "      <td>9</td>\n",
       "      <td>15</td>\n",
       "      <td>0</td>\n",
       "    </tr>\n",
       "  </tbody>\n",
       "</table>\n",
       "</div>"
      ],
      "text/plain": [
       "                  Prediction                      \n",
       "                   Withdrawn Fail Pass Distinction\n",
       "                                                  \n",
       "Truth Withdrawn           52    0    0           0\n",
       "      Fail                 0   28   16           1\n",
       "      Pass                 0   89  129          11\n",
       "      Distinction          0    9   15           0"
      ]
     },
     "metadata": {},
     "output_type": "display_data"
    }
   ],
   "source": [
    "model = DecisionTreeClassifier(max_depth=14)\n",
    "train_and_show_results(model)"
   ]
  },
  {
   "cell_type": "markdown",
   "metadata": {},
   "source": [
    "#### Bagging Classifier"
   ]
  },
  {
   "cell_type": "code",
   "execution_count": 74,
   "metadata": {},
   "outputs": [
    {
     "name": "stdout",
     "output_type": "stream",
     "text": [
      " Accuracy Score = 0.71\n",
      "Precision Score = 0.52\n",
      "   Recall Score = 0.57\n",
      "       F1 Score = 0.54\n",
      "    CustomScore = 0.74\n"
     ]
    },
    {
     "data": {
      "text/html": [
       "<div>\n",
       "<style scoped>\n",
       "    .dataframe tbody tr th:only-of-type {\n",
       "        vertical-align: middle;\n",
       "    }\n",
       "\n",
       "    .dataframe tbody tr th {\n",
       "        vertical-align: top;\n",
       "    }\n",
       "\n",
       "    .dataframe thead tr th {\n",
       "        text-align: left;\n",
       "    }\n",
       "\n",
       "    .dataframe thead tr:last-of-type th {\n",
       "        text-align: right;\n",
       "    }\n",
       "</style>\n",
       "<table border=\"1\" class=\"dataframe\">\n",
       "  <thead>\n",
       "    <tr>\n",
       "      <th></th>\n",
       "      <th></th>\n",
       "      <th colspan=\"4\" halign=\"left\">Prediction</th>\n",
       "    </tr>\n",
       "    <tr>\n",
       "      <th></th>\n",
       "      <th></th>\n",
       "      <th>Withdrawn</th>\n",
       "      <th>Fail</th>\n",
       "      <th>Pass</th>\n",
       "      <th>Distinction</th>\n",
       "    </tr>\n",
       "    <tr>\n",
       "      <th></th>\n",
       "      <th></th>\n",
       "      <th></th>\n",
       "      <th></th>\n",
       "      <th></th>\n",
       "      <th></th>\n",
       "    </tr>\n",
       "  </thead>\n",
       "  <tbody>\n",
       "    <tr>\n",
       "      <th rowspan=\"4\" valign=\"top\">Truth</th>\n",
       "      <th>Withdrawn</th>\n",
       "      <td>52</td>\n",
       "      <td>0</td>\n",
       "      <td>0</td>\n",
       "      <td>0</td>\n",
       "    </tr>\n",
       "    <tr>\n",
       "      <th>Fail</th>\n",
       "      <td>0</td>\n",
       "      <td>23</td>\n",
       "      <td>22</td>\n",
       "      <td>0</td>\n",
       "    </tr>\n",
       "    <tr>\n",
       "      <th>Pass</th>\n",
       "      <td>0</td>\n",
       "      <td>55</td>\n",
       "      <td>172</td>\n",
       "      <td>2</td>\n",
       "    </tr>\n",
       "    <tr>\n",
       "      <th>Distinction</th>\n",
       "      <td>0</td>\n",
       "      <td>2</td>\n",
       "      <td>22</td>\n",
       "      <td>0</td>\n",
       "    </tr>\n",
       "  </tbody>\n",
       "</table>\n",
       "</div>"
      ],
      "text/plain": [
       "                  Prediction                      \n",
       "                   Withdrawn Fail Pass Distinction\n",
       "                                                  \n",
       "Truth Withdrawn           52    0    0           0\n",
       "      Fail                 0   23   22           0\n",
       "      Pass                 0   55  172           2\n",
       "      Distinction          0    2   22           0"
      ]
     },
     "metadata": {},
     "output_type": "display_data"
    }
   ],
   "source": [
    "dt_params = {\n",
    "    'criterion': 'entropy',\n",
    "    'random_state': 11\n",
    "}\n",
    "dt = DecisionTreeClassifier(**dt_params)\n",
    "\n",
    "bc_params = {\n",
    "    'base_estimator': dt,    \n",
    "    'n_estimators': 50,    \n",
    "    'max_samples': 0.5,    \n",
    "    'random_state': 11,\n",
    "    'n_jobs': -1\n",
    "}\n",
    "model = BaggingClassifier(**bc_params)\n",
    "train_and_show_results(model)"
   ]
  },
  {
   "cell_type": "markdown",
   "metadata": {},
   "source": [
    "#### Random Forest"
   ]
  },
  {
   "cell_type": "code",
   "execution_count": 75,
   "metadata": {},
   "outputs": [
    {
     "name": "stdout",
     "output_type": "stream",
     "text": [
      " Accuracy Score = 0.80\n",
      "Precision Score = 0.56\n",
      "   Recall Score = 0.53\n",
      "       F1 Score = 0.53\n",
      "    CustomScore = 0.74\n"
     ]
    },
    {
     "name": "stderr",
     "output_type": "stream",
     "text": [
      "/home/katzenmaul/.local/lib/python3.6/site-packages/sklearn/metrics/_classification.py:1272: UndefinedMetricWarning: Precision is ill-defined and being set to 0.0 in labels with no predicted samples. Use `zero_division` parameter to control this behavior.\n",
      "  _warn_prf(average, modifier, msg_start, len(result))\n"
     ]
    },
    {
     "data": {
      "text/html": [
       "<div>\n",
       "<style scoped>\n",
       "    .dataframe tbody tr th:only-of-type {\n",
       "        vertical-align: middle;\n",
       "    }\n",
       "\n",
       "    .dataframe tbody tr th {\n",
       "        vertical-align: top;\n",
       "    }\n",
       "\n",
       "    .dataframe thead tr th {\n",
       "        text-align: left;\n",
       "    }\n",
       "\n",
       "    .dataframe thead tr:last-of-type th {\n",
       "        text-align: right;\n",
       "    }\n",
       "</style>\n",
       "<table border=\"1\" class=\"dataframe\">\n",
       "  <thead>\n",
       "    <tr>\n",
       "      <th></th>\n",
       "      <th></th>\n",
       "      <th colspan=\"4\" halign=\"left\">Prediction</th>\n",
       "    </tr>\n",
       "    <tr>\n",
       "      <th></th>\n",
       "      <th></th>\n",
       "      <th>Withdrawn</th>\n",
       "      <th>Fail</th>\n",
       "      <th>Pass</th>\n",
       "      <th>Distinction</th>\n",
       "    </tr>\n",
       "    <tr>\n",
       "      <th></th>\n",
       "      <th></th>\n",
       "      <th></th>\n",
       "      <th></th>\n",
       "      <th></th>\n",
       "      <th></th>\n",
       "    </tr>\n",
       "  </thead>\n",
       "  <tbody>\n",
       "    <tr>\n",
       "      <th rowspan=\"4\" valign=\"top\">Truth</th>\n",
       "      <th>Withdrawn</th>\n",
       "      <td>52</td>\n",
       "      <td>0</td>\n",
       "      <td>0</td>\n",
       "      <td>0</td>\n",
       "    </tr>\n",
       "    <tr>\n",
       "      <th>Fail</th>\n",
       "      <td>0</td>\n",
       "      <td>8</td>\n",
       "      <td>37</td>\n",
       "      <td>0</td>\n",
       "    </tr>\n",
       "    <tr>\n",
       "      <th>Pass</th>\n",
       "      <td>0</td>\n",
       "      <td>9</td>\n",
       "      <td>220</td>\n",
       "      <td>0</td>\n",
       "    </tr>\n",
       "    <tr>\n",
       "      <th>Distinction</th>\n",
       "      <td>0</td>\n",
       "      <td>0</td>\n",
       "      <td>24</td>\n",
       "      <td>0</td>\n",
       "    </tr>\n",
       "  </tbody>\n",
       "</table>\n",
       "</div>"
      ],
      "text/plain": [
       "                  Prediction                      \n",
       "                   Withdrawn Fail Pass Distinction\n",
       "                                                  \n",
       "Truth Withdrawn           52    0    0           0\n",
       "      Fail                 0    8   37           0\n",
       "      Pass                 0    9  220           0\n",
       "      Distinction          0    0   24           0"
      ]
     },
     "metadata": {},
     "output_type": "display_data"
    }
   ],
   "source": [
    "rf_params = {\n",
    "    'n_estimators': 100,\n",
    "    'criterion': 'entropy',\n",
    "    'max_features': 0.5,\n",
    "    'min_samples_leaf': 10,\n",
    "    'random_state': 11,\n",
    "    'n_jobs': -1\n",
    "}\n",
    "model = RandomForestClassifier(**rf_params)\n",
    "train_and_show_results(model)"
   ]
  },
  {
   "cell_type": "markdown",
   "metadata": {},
   "source": [
    "#### Ada Boost"
   ]
  },
  {
   "cell_type": "code",
   "execution_count": 76,
   "metadata": {},
   "outputs": [
    {
     "name": "stdout",
     "output_type": "stream",
     "text": [
      " Accuracy Score = 0.80\n",
      "Precision Score = 0.67\n",
      "   Recall Score = 0.52\n",
      "       F1 Score = 0.51\n",
      "    CustomScore = 0.75\n"
     ]
    },
    {
     "data": {
      "text/html": [
       "<div>\n",
       "<style scoped>\n",
       "    .dataframe tbody tr th:only-of-type {\n",
       "        vertical-align: middle;\n",
       "    }\n",
       "\n",
       "    .dataframe tbody tr th {\n",
       "        vertical-align: top;\n",
       "    }\n",
       "\n",
       "    .dataframe thead tr th {\n",
       "        text-align: left;\n",
       "    }\n",
       "\n",
       "    .dataframe thead tr:last-of-type th {\n",
       "        text-align: right;\n",
       "    }\n",
       "</style>\n",
       "<table border=\"1\" class=\"dataframe\">\n",
       "  <thead>\n",
       "    <tr>\n",
       "      <th></th>\n",
       "      <th></th>\n",
       "      <th colspan=\"4\" halign=\"left\">Prediction</th>\n",
       "    </tr>\n",
       "    <tr>\n",
       "      <th></th>\n",
       "      <th></th>\n",
       "      <th>Withdrawn</th>\n",
       "      <th>Fail</th>\n",
       "      <th>Pass</th>\n",
       "      <th>Distinction</th>\n",
       "    </tr>\n",
       "    <tr>\n",
       "      <th></th>\n",
       "      <th></th>\n",
       "      <th></th>\n",
       "      <th></th>\n",
       "      <th></th>\n",
       "      <th></th>\n",
       "    </tr>\n",
       "  </thead>\n",
       "  <tbody>\n",
       "    <tr>\n",
       "      <th rowspan=\"4\" valign=\"top\">Truth</th>\n",
       "      <th>Withdrawn</th>\n",
       "      <td>52</td>\n",
       "      <td>0</td>\n",
       "      <td>0</td>\n",
       "      <td>0</td>\n",
       "    </tr>\n",
       "    <tr>\n",
       "      <th>Fail</th>\n",
       "      <td>0</td>\n",
       "      <td>3</td>\n",
       "      <td>40</td>\n",
       "      <td>2</td>\n",
       "    </tr>\n",
       "    <tr>\n",
       "      <th>Pass</th>\n",
       "      <td>0</td>\n",
       "      <td>1</td>\n",
       "      <td>225</td>\n",
       "      <td>3</td>\n",
       "    </tr>\n",
       "    <tr>\n",
       "      <th>Distinction</th>\n",
       "      <td>0</td>\n",
       "      <td>0</td>\n",
       "      <td>23</td>\n",
       "      <td>1</td>\n",
       "    </tr>\n",
       "  </tbody>\n",
       "</table>\n",
       "</div>"
      ],
      "text/plain": [
       "                  Prediction                      \n",
       "                   Withdrawn Fail Pass Distinction\n",
       "                                                  \n",
       "Truth Withdrawn           52    0    0           0\n",
       "      Fail                 0    3   40           2\n",
       "      Pass                 0    1  225           3\n",
       "      Distinction          0    0   23           1"
      ]
     },
     "metadata": {},
     "output_type": "display_data"
    }
   ],
   "source": [
    "dt_params = {\n",
    "    'max_depth': 1,\n",
    "    'random_state': 11\n",
    "}\n",
    "dt = DecisionTreeClassifier(**dt_params)\n",
    "ab_params = {\n",
    "    'n_estimators': 21,\n",
    "    'base_estimator': dt,\n",
    "    'random_state': 11\n",
    "}\n",
    "model = AdaBoostClassifier(**ab_params)\n",
    "train_and_show_results(model)"
   ]
  },
  {
   "cell_type": "markdown",
   "metadata": {},
   "source": [
    "#### GradientBoosting"
   ]
  },
  {
   "cell_type": "code",
   "execution_count": 77,
   "metadata": {
    "scrolled": false
   },
   "outputs": [
    {
     "name": "stdout",
     "output_type": "stream",
     "text": [
      " Accuracy Score = 0.64\n",
      "Precision Score = 0.50\n",
      "   Recall Score = 0.53\n",
      "       F1 Score = 0.50\n",
      "    CustomScore = 0.74\n"
     ]
    },
    {
     "data": {
      "text/html": [
       "<div>\n",
       "<style scoped>\n",
       "    .dataframe tbody tr th:only-of-type {\n",
       "        vertical-align: middle;\n",
       "    }\n",
       "\n",
       "    .dataframe tbody tr th {\n",
       "        vertical-align: top;\n",
       "    }\n",
       "\n",
       "    .dataframe thead tr th {\n",
       "        text-align: left;\n",
       "    }\n",
       "\n",
       "    .dataframe thead tr:last-of-type th {\n",
       "        text-align: right;\n",
       "    }\n",
       "</style>\n",
       "<table border=\"1\" class=\"dataframe\">\n",
       "  <thead>\n",
       "    <tr>\n",
       "      <th></th>\n",
       "      <th></th>\n",
       "      <th colspan=\"4\" halign=\"left\">Prediction</th>\n",
       "    </tr>\n",
       "    <tr>\n",
       "      <th></th>\n",
       "      <th></th>\n",
       "      <th>Withdrawn</th>\n",
       "      <th>Fail</th>\n",
       "      <th>Pass</th>\n",
       "      <th>Distinction</th>\n",
       "    </tr>\n",
       "    <tr>\n",
       "      <th></th>\n",
       "      <th></th>\n",
       "      <th></th>\n",
       "      <th></th>\n",
       "      <th></th>\n",
       "      <th></th>\n",
       "    </tr>\n",
       "  </thead>\n",
       "  <tbody>\n",
       "    <tr>\n",
       "      <th rowspan=\"4\" valign=\"top\">Truth</th>\n",
       "      <th>Withdrawn</th>\n",
       "      <td>52</td>\n",
       "      <td>0</td>\n",
       "      <td>0</td>\n",
       "      <td>0</td>\n",
       "    </tr>\n",
       "    <tr>\n",
       "      <th>Fail</th>\n",
       "      <td>0</td>\n",
       "      <td>20</td>\n",
       "      <td>24</td>\n",
       "      <td>1</td>\n",
       "    </tr>\n",
       "    <tr>\n",
       "      <th>Pass</th>\n",
       "      <td>0</td>\n",
       "      <td>63</td>\n",
       "      <td>152</td>\n",
       "      <td>14</td>\n",
       "    </tr>\n",
       "    <tr>\n",
       "      <th>Distinction</th>\n",
       "      <td>0</td>\n",
       "      <td>5</td>\n",
       "      <td>19</td>\n",
       "      <td>0</td>\n",
       "    </tr>\n",
       "  </tbody>\n",
       "</table>\n",
       "</div>"
      ],
      "text/plain": [
       "                  Prediction                      \n",
       "                   Withdrawn Fail Pass Distinction\n",
       "                                                  \n",
       "Truth Withdrawn           52    0    0           0\n",
       "      Fail                 0   20   24           1\n",
       "      Pass                 0   63  152          14\n",
       "      Distinction          0    5   19           0"
      ]
     },
     "metadata": {},
     "output_type": "display_data"
    }
   ],
   "source": [
    "gbc_params = {\n",
    "    'n_estimators': 100,\n",
    "    'max_depth': 3,\n",
    "    'min_samples_leaf': 5,\n",
    "    'random_state': 11\n",
    "}\n",
    "model = GradientBoostingClassifier(**gbc_params)\n",
    "train_and_show_results(model)"
   ]
  },
  {
   "cell_type": "markdown",
   "metadata": {},
   "source": [
    "#### SVC"
   ]
  },
  {
   "cell_type": "code",
   "execution_count": null,
   "metadata": {},
   "outputs": [],
   "source": [
    "model = LinearSVC()\n",
    "train_and_show_results(model)"
   ]
  },
  {
   "cell_type": "markdown",
   "metadata": {},
   "source": [
    "#### Stacked Classifier"
   ]
  },
  {
   "cell_type": "code",
   "execution_count": null,
   "metadata": {},
   "outputs": [],
   "source": [
    "# Stacked Classifier\n",
    "x_train_with_metapreds = np.zeros((trainX.shape[0], trainX.shape[1]+2))\n",
    "x_train_with_metapreds[:, :-2] = trainX\n",
    "x_train_with_metapreds[:, -2:] = -1\n",
    "x_train_with_metapreds\n",
    "kf = KFold(n_splits=5, random_state=11, shuffle=True)\n",
    "\n",
    "for train_indices, val_indices in kf.split(trainX):\n",
    "    kfold_x_train, kfold_x_val = trainX[train_indices], trainX[val_indices]\n",
    "    kfold_y_train, kfold_y_val = trainY.values[train_indices], trainY.values[val_indices]\n",
    "    \n",
    "    svm = LinearSVC(random_state=11, max_iter=1000)\n",
    "    svm.fit(kfold_x_train, kfold_y_train)\n",
    "    svm_pred = svm.predict(kfold_x_val)\n",
    "    \n",
    "    knn = KNN(n_neighbors=4)\n",
    "    knn.fit(kfold_x_train, kfold_y_train)\n",
    "    knn_pred = knn.predict(kfold_x_val)\n",
    "    \n",
    "    x_train_with_metapreds[val_indices, -2] = svm_pred\n",
    "    x_train_with_metapreds[val_indices, -1] = knn_pred\n",
    "    \n",
    "    \n",
    "x_val_with_metapreds = np.zeros((testX.shape[0], testX.shape[1]+2))\n",
    "x_val_with_metapreds[:, :-2] = testX\n",
    "x_val_with_metapreds[:, -2:] = -1\n",
    "\n",
    "svm = LinearSVC(random_state=11, max_iter=1000)\n",
    "svm.fit(trainX, trainY)\n",
    "\n",
    "knn = KNN(n_neighbors=4)\n",
    "knn.fit(trainX, trainY)\n",
    "\n",
    "svm_pred = svm.predict(testX)\n",
    "knn_pred = knn.predict(testX)\n",
    "\n",
    "x_val_with_metapreds[:, -2] = svm_pred\n",
    "x_val_with_metapreds[:, -1] = knn_pred\n",
    "\n",
    "lr = LogisticRegression(random_state=11, max_iter=150)\n",
    "lr.fit(x_train_with_metapreds, trainY)\n",
    "lr_preds_train = lr.predict(x_train_with_metapreds)\n",
    "lr_preds_val = lr.predict(x_val_with_metapreds)\n",
    "print('Stacked Classifier:\\n\\\n",
    "> Accuracy on training data = {:.4f}\\n\\\n",
    "> Accuracy on validation data = {:.4f}'\\\n",
    "      .format(accuracy_score(y_true=trainY, y_pred=lr_preds_train),\\\n",
    "              accuracy_score(y_true=testY, y_pred=lr_preds_val)))\n",
    "\n",
    "print('SVM:\\n> Accuracy on training data = {:.4f}\\n> Accuracy on\\\n",
    "validation data = {:.4f}'\n",
    "      .format(\n",
    "             accuracy_score(y_true=trainY, y_pred=svm.predict(trainX)),\n",
    "             accuracy_score(y_true=testY, y_pred=svm_pred)\n",
    "      ))\n",
    "\n",
    "print('kNN:\\n> Accuracy on training data = {:.4f}\\n> Accuracy on \\\n",
    "validation data = {:.4f}'\n",
    "      .format(accuracy_score(y_true=trainY, y_pred=knn.predict(trainX)),\n",
    "              accuracy_score(y_true=testY, y_pred=knn_pred)))\n",
    "\n",
    "pd.DataFrame(confusion_matrix(testY, lr_preds_val, labels=[0,1,2,3]), \\\n",
    "             columns=index1, index=index2)"
   ]
  },
  {
   "cell_type": "markdown",
   "metadata": {},
   "source": [
    "#### adding classification result to the test data"
   ]
  },
  {
   "cell_type": "code",
   "execution_count": null,
   "metadata": {},
   "outputs": [],
   "source": [
    "testing_encoders['final_result_first'].inverse_transform([0,1,2,3])\n",
    "sc = SpectralClustering(n_clusters=2, affinity='laplacian')\n",
    "sc.fit(trainX)\n",
    "\n",
    "newTrainX = np.empty([len(trainX), len(trainX[0]) + 1])\n",
    "for i, arr in enumerate(trainX):\n",
    "    newTrainX[i] = np.append(arr, sc.labels_[i])\n",
    "    \n",
    "clustLabel = sc.fit_predict(testX)\n",
    "\n",
    "newTestX = np.empty([len(testX), len(testX[0]) + 1])\n",
    "for i, arr in enumerate(testX):\n",
    "    newTestX[i] = np.append(arr, clustLabel[i])"
   ]
  }
 ],
 "metadata": {
  "kernelspec": {
   "display_name": "Python 3",
   "language": "python",
   "name": "python3"
  },
  "language_info": {
   "codemirror_mode": {
    "name": "ipython",
    "version": 3
   },
   "file_extension": ".py",
   "mimetype": "text/x-python",
   "name": "python",
   "nbconvert_exporter": "python",
   "pygments_lexer": "ipython3",
   "version": "3.6.9"
  }
 },
 "nbformat": 4,
 "nbformat_minor": 4
}
