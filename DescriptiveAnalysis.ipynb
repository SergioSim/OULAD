{
 "cells": [
  {
   "cell_type": "markdown",
   "metadata": {},
   "source": [
    "# Descriptive Analysis of OULAD dataset"
   ]
  },
  {
   "cell_type": "code",
   "execution_count": null,
   "metadata": {},
   "outputs": [],
   "source": [
    "import pandas as pd\n",
    "import numpy as np\n",
    "import missingno as msno\n",
    "%matplotlib inline\n",
    "import matplotlib.pyplot as plt\n",
    "import seaborn as sns\n",
    "import pylab as pl\n",
    "\n",
    "from IPython.display import display\n",
    "\n",
    "sns.set()\n",
    "pd.options.display.max_columns = None\n"
   ]
  },
  {
   "cell_type": "markdown",
   "metadata": {},
   "source": [
    "## Charging the dataset into memory"
   ]
  },
  {
   "cell_type": "code",
   "execution_count": null,
   "metadata": {},
   "outputs": [],
   "source": [
    "assessments_df         = pd.read_csv('./OULAD/assessments.csv')\n",
    "courses_df             = pd.read_csv('./OULAD/courses.csv')\n",
    "studentAssessment_df   = pd.read_csv('./OULAD/studentAssessment.csv')\n",
    "studentInfo_df         = pd.read_csv('./OULAD/studentInfo.csv')\n",
    "studentRegistration_df = pd.read_csv('./OULAD/studentRegistration.csv')\n",
    "studentVle_df          = pd.read_csv('./OULAD/studentVle.csv')\n",
    "vle_df                 = pd.read_csv('./OULAD/vle.csv')"
   ]
  },
  {
   "cell_type": "markdown",
   "metadata": {},
   "source": [
    "### Inspecting assessments table"
   ]
  },
  {
   "cell_type": "code",
   "execution_count": null,
   "metadata": {
    "scrolled": true
   },
   "outputs": [],
   "source": [
    "display(assessments_df)\n",
    "print(assessments_df.info())\n",
    "display(assessments_df.describe())\n",
    "for col in ['code_module', 'code_presentation', 'assessment_type']:\n",
    "    print('%s FREQUENCIES' % (col))\n",
    "    print(assessments_df[col].value_counts(dropna=False))\n",
    "    print('')\n",
    "\n",
    "print('\\nTHE SKEW')\n",
    "print(assessments_df.drop(['id_assessment'], axis=1).skew().sort_values())\n",
    "print('\\nTHE KURTOSIS')\n",
    "print(assessments_df.drop(['id_assessment'], axis=1).kurt().sort_values())\n",
    "\n",
    "# some exam final submission dates are NaN = \"\" does it means at the end of the course?"
   ]
  },
  {
   "cell_type": "markdown",
   "metadata": {},
   "source": [
    "### Inspecting courses table"
   ]
  },
  {
   "cell_type": "code",
   "execution_count": null,
   "metadata": {
    "scrolled": true
   },
   "outputs": [],
   "source": [
    "display(courses_df)\n",
    "print(courses_df.info())\n",
    "display(courses_df.describe())\n",
    "for col in ['code_module', 'code_presentation', 'module_presentation_length']:\n",
    "    print('%s FREQUENCIES' % (col))\n",
    "    print(courses_df[col].value_counts(dropna=False))\n",
    "    print('')\n",
    "\n",
    "print(courses_df['module_presentation_length'].value_counts(dropna=False))\n",
    "print('\\nTHE SKEW')\n",
    "print(courses_df.skew().sort_values())\n",
    "print('\\nTHE KURTOSIS')\n",
    "print(courses_df.kurt().sort_values())"
   ]
  },
  {
   "cell_type": "markdown",
   "metadata": {},
   "source": [
    "### Inspecting studentAssessment table"
   ]
  },
  {
   "cell_type": "code",
   "execution_count": null,
   "metadata": {
    "scrolled": true
   },
   "outputs": [],
   "source": [
    "display(studentAssessment_df)\n",
    "print(studentAssessment_df.info())\n",
    "display(studentAssessment_df.describe())\n",
    "print('is_banked FREQUENCIES')\n",
    "print(studentAssessment_df['is_banked'].value_counts(dropna=False))\n",
    "print('\\nTHE SKEW')\n",
    "print(studentAssessment_df.drop(['id_student', 'id_assessment'], axis=1).skew().sort_values())\n",
    "print('\\nTHE KURTOSIS')\n",
    "print(studentAssessment_df.drop(['id_student', 'id_assessment'], axis=1).kurt().sort_values())\n",
    "\n",
    "# score sometimes NaN - not even tried?\n",
    "# we can't replace those with 0 as it would mean they tried and scored 0 which is different...\n",
    "# may be -0.01?"
   ]
  },
  {
   "cell_type": "markdown",
   "metadata": {},
   "source": [
    "### Inspecting studentInfo table"
   ]
  },
  {
   "cell_type": "code",
   "execution_count": null,
   "metadata": {},
   "outputs": [],
   "source": [
    "display(studentInfo_df)\n",
    "print(studentInfo_df.info())\n",
    "display(studentInfo_df.describe())\n",
    "for col in ['gender', 'disability', 'age_band', 'code_presentation', 'final_result', 'highest_education', 'code_module', 'num_of_prev_attempts', 'imd_band', 'region', 'studied_credits']:\n",
    "    print('%s FREQUENCIES' % (col))\n",
    "    print(studentInfo_df[col].value_counts(dropna=False))\n",
    "    print('')\n",
    "    \n",
    "print('THE SKEW')\n",
    "print(studentInfo_df.drop(['id_student'], axis=1).skew().sort_values())\n",
    "print('\\nTHE KURTOSIS')\n",
    "print(studentInfo_df.drop(['id_student'], axis=1).kurt().sort_values())\n",
    "\n",
    "plt.figure(figsize=(10,8))\n",
    "studentInfo_df['final_result'].value_counts(dropna=False).plot(kind='bar')\n",
    "plt.ylabel('Number of data points')\n",
    "plt.xlabel('final result')\n",
    "plt.show()\n",
    "\n",
    "counts = studentInfo_df['imd_band'].value_counts(dropna=False)\n",
    "plt.figure(figsize=(10,10))\n",
    "plt.pie(counts, labels=counts.index, colors=['green', 'blue', 'red'])\n",
    "plt.title('Pie chart showing counts for\\nstudentInfo imd_band categories')\n",
    "plt.show()\n",
    "\n",
    "sns.set()\n",
    "studentInfo_df.groupby(['imd_band','final_result']).size().unstack().plot(kind='bar', stacked=True, figsize=(12,8))\n",
    "plt.show()\n",
    "\n",
    "# note - we have students that have both - succeed and failed if we don't groupby session"
   ]
  },
  {
   "cell_type": "markdown",
   "metadata": {},
   "source": [
    "### Inspecting studentRegistration table"
   ]
  },
  {
   "cell_type": "code",
   "execution_count": null,
   "metadata": {
    "scrolled": true
   },
   "outputs": [],
   "source": [
    "display(studentRegistration_df)\n",
    "print(studentRegistration_df.info())\n",
    "display(studentRegistration_df.describe())\n",
    "for col in ['code_presentation', 'code_module']:\n",
    "    print('%s FREQUENCIES' % (col))\n",
    "    print(studentRegistration_df[col].value_counts(dropna=False))\n",
    "    print('')\n",
    "\n",
    "print('THE SKEW')\n",
    "print(studentRegistration_df.skew().sort_values())\n",
    "print('\\nTHE KURTOSIS')\n",
    "print(studentRegistration_df.kurt().sort_values())\n",
    "\n",
    "print('\\nfun fact: registration date positively correlated with unregistration date')\n",
    "plt.figure(figsize = (12,10))\n",
    "sns.heatmap(studentRegistration_df.drop(['id_student'], axis=1).corr(), annot=True, cmap=\"RdBu\", vmin=-1, vmax=1)\n",
    "plt.show()\n",
    "\n",
    "plt.figure(figsize=(15,6))\n",
    "sns.distplot(studentRegistration_df['date_registration'])\n",
    "plt.show()\n",
    "plt.figure(figsize=(15,6))\n",
    "sns.distplot(studentRegistration_df['date_unregistration'])\n",
    "plt.show()\n",
    "\n",
    "plt.figure(figsize=(12,9))\n",
    "plt.scatter(x=studentAssessment_df['date_submitted'], y=studentAssessment_df['score'])\n",
    "plt.xlabel('date_submitted')\n",
    "plt.ylabel('score')\n",
    "plt.show()\n",
    "# 2/3 of date_unregistration is NaN - they dont unRegistered!\n",
    "# Is it common to unregister at the verry end of the course? If not we can replace the NaNs \n",
    "# with the end date of the course!\n",
    "# 45 date_registration is NaN - no Idea why..."
   ]
  },
  {
   "cell_type": "markdown",
   "metadata": {},
   "source": [
    "### Inspecting studentVle table\n",
    "(10M rows with 6 columns - this might take a couple of seconds...)"
   ]
  },
  {
   "cell_type": "code",
   "execution_count": null,
   "metadata": {
    "scrolled": true
   },
   "outputs": [],
   "source": [
    "display(studentVle_df)\n",
    "print(studentVle_df.info())\n",
    "display(studentVle_df.describe())\n",
    "for col in ['code_presentation', 'code_module']:\n",
    "    print('%s FREQUENCIES' % (col))\n",
    "    print(studentVle_df[col].value_counts(dropna=False))\n",
    "    print('')\n",
    "\n",
    "print('THE SKEW')\n",
    "print(studentVle_df.drop(['id_student', 'id_site'], axis=1).skew().sort_values())\n",
    "print('\\nTHE KURTOSIS')\n",
    "print(studentVle_df.drop(['id_student', 'id_site'], axis=1).kurt().sort_values())\n",
    "\n",
    "# plt.figure(figsize=(15, 15))\n",
    "# sns.boxplot(\n",
    "#     x='code_module', y=\"date\",\n",
    "#     data=studentVle_df, order=studentVle_df['code_module'].value_counts().index)\n",
    "# plt.show()"
   ]
  },
  {
   "cell_type": "markdown",
   "metadata": {},
   "source": [
    "### Inspecting vle table"
   ]
  },
  {
   "cell_type": "code",
   "execution_count": null,
   "metadata": {
    "scrolled": true
   },
   "outputs": [],
   "source": [
    "display(vle_df)\n",
    "print(vle_df.info())\n",
    "display(vle_df.describe())\n",
    "for col in ['code_presentation', 'code_module', 'activity_type']:\n",
    "    print('%s FREQUENCIES' % (col))\n",
    "    print(vle_df[col].value_counts(dropna=False))\n",
    "    print('')\n",
    "\n",
    "print('THE SKEW')\n",
    "print(vle_df.drop(['id_site'], axis=1).skew().sort_values())\n",
    "print('\\nTHE KURTOSIS')\n",
    "print(vle_df.drop(['id_site'], axis=1).kurt().sort_values())\n",
    "\n",
    "print('\\nfun fact: week_from correlated with week_to')\n",
    "plt.figure(figsize = (12,10))\n",
    "sns.heatmap(vle_df.drop(['id_site'], axis=1).corr(), annot=True, cmap=\"RdBu\", vmin=-1, vmax=1)\n",
    "plt.show()\n",
    "\n",
    "countFromNotEqualTo = sum(vle_df['week_from'][~vle_df['week_from'].isna()] != vle_df['week_to'][~vle_df['week_to'].isna()])\n",
    "print('only %i times from total %i the week_from is different from week_to' % (countFromNotEqualTo, sum(~vle_df['week_from'].isna())))\n",
    "\n",
    "# 5243 of week_from and week_to is NaN = planed availability from start to end\n",
    "# we could replace week_from with 0 and week_to with end date of the course\n",
    "\n",
    "# the nullity matrix:\n",
    "# nullable_columns = vle_df.columns[data.isna().any()].tolist()\n",
    "# msno.matrix(vle_df[nullable_columns])\n",
    "# plt.show() # black is non-null / white is null"
   ]
  },
  {
   "cell_type": "markdown",
   "metadata": {},
   "source": [
    "## Joining tables to make stats by course/student"
   ]
  },
  {
   "cell_type": "code",
   "execution_count": null,
   "metadata": {},
   "outputs": [],
   "source": [
    "# WIP\n",
    "# sns.countplot(final_df['final_result_first'],label=\"Count\")\n",
    "# plt.show()\n",
    "# final_df.drop(['region_first', 'highest_education_first', 'final_result_first'], axis=1)\\\n",
    "#     .plot(kind='box', subplots=True, layout=(8,3),\\\n",
    "#           sharex=False, sharey=False, figsize=(12,30), title='Box Plot for each input variable')\n",
    "# plt.show()\n",
    "\n",
    "# final_df.drop(['region_first', 'highest_education_first', 'final_result_first'] ,axis=1)\\\n",
    "#     .hist(bins=30, figsize=(20,30))\n",
    "# pl.suptitle(\"Histogram for each numeric input variable\")\n",
    "# plt.show()\n",
    "\n",
    "# from pandas.plotting import scatter_matrix\n",
    "# from matplotlib import cm\n",
    "# X = final_df.drop(['region_first', 'highest_education_first', 'final_result_first'] ,axis=1)\n",
    "# y = final_df['final_result_first'].astype('category').cat.codes\n",
    "# cmap = cm.get_cmap('gnuplot')\n",
    "# scatter = scatter_matrix(X, c = y, marker = 'o', s=40, hist_kwds={'bins':15}, figsize=(60,60), cmap = cmap)\n",
    "# plt.suptitle('Scatter-matrix for each input variable')\n",
    "# plt.savefig(\"save_file_name.pdf\")\n",
    "# plt.close()"
   ]
  }
 ],
 "metadata": {
  "kernelspec": {
   "display_name": "Python 3",
   "language": "python",
   "name": "python3"
  },
  "language_info": {
   "codemirror_mode": {
    "name": "ipython",
    "version": 3
   },
   "file_extension": ".py",
   "mimetype": "text/x-python",
   "name": "python",
   "nbconvert_exporter": "python",
   "pygments_lexer": "ipython3",
   "version": "3.6.9"
  }
 },
 "nbformat": 4,
 "nbformat_minor": 4
}
