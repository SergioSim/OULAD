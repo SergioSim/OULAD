{
 "cells": [
  {
   "cell_type": "markdown",
   "id": "66c3eddd-f79c-4a02-b94d-dcd477031aa7",
   "metadata": {},
   "source": [
    "# A first descriptive analysis\n",
    "\n",
    "One of the best ways to get started with the OULAD analysis might be to explore the\n",
    "original paper that introduced the OULAD dataset.\n",
    "{cite}`kuzilek_hlosta_zdrahal_2017`\n",
    "\n",
    "In this section we try to reproduce and summarize their findings.\n",
    "We also take some notes at the end which might be used later.\n",
    "\n",
    "```{bibliography}\n",
    ":filter: docname in docnames\n",
    "```"
   ]
  },
  {
   "cell_type": "code",
   "execution_count": 1,
   "id": "75c4b6e1-6e33-4bfc-a8b1-96dcab904fec",
   "metadata": {},
   "outputs": [],
   "source": [
    "import matplotlib.pyplot as plt\n",
    "import pandas as pd\n",
    "\n",
    "from oulad import get_oulad\n",
    "\n",
    "oulad = get_oulad()"
   ]
  },
  {
   "cell_type": "markdown",
   "id": "0011fcd0-b955-4ea7-a875-95062e0b2f0c",
   "metadata": {},
   "source": [
    "## General statistics"
   ]
  },
  {
   "cell_type": "code",
   "execution_count": 2,
   "id": "7653bf36-0420-4800-afb6-3846949fbe27",
   "metadata": {},
   "outputs": [
    {
     "name": "stdout",
     "output_type": "stream",
     "text": [
      "OULAD contains data about:\n",
      "  - 22 courses from 7 modules (4 STEM modules and 3 Social Sciences modules)\n",
      "  - 32593 students\n",
      "  - 32593 student registrations\n",
      "  - 10655280 VLE interaction entries\n"
     ]
    }
   ],
   "source": [
    "module_count = oulad.courses.code_module.nunique()\n",
    "print(\n",
    "    \"OULAD contains data about:\\n\"\n",
    "    f\"  - {oulad.courses.shape[0]} courses from {module_count} modules \"\n",
    "    \"(4 STEM modules and 3 Social Sciences modules)\\n\"\n",
    "    f\"  - {oulad.student_info.shape[0]} students\\n\"\n",
    "    f\"  - {oulad.student_registration.shape[0]} student registrations\\n\"\n",
    "    f\"  - {oulad.student_vle.shape[0]} VLE interaction entries\"\n",
    ")"
   ]
  },
  {
   "cell_type": "markdown",
   "id": "d348e6fb-3bdd-467a-b5fb-c7608d65d484",
   "metadata": {},
   "source": [
    "### Student registration count by module with domain information"
   ]
  },
  {
   "cell_type": "code",
   "execution_count": 3,
   "id": "f53a8176-394a-4775-82f9-4e006c4ab9cf",
   "metadata": {},
   "outputs": [
    {
     "data": {
      "text/html": [
       "<div>\n",
       "<style scoped>\n",
       "    .dataframe tbody tr th:only-of-type {\n",
       "        vertical-align: middle;\n",
       "    }\n",
       "\n",
       "    .dataframe tbody tr th {\n",
       "        vertical-align: top;\n",
       "    }\n",
       "\n",
       "    .dataframe thead th {\n",
       "        text-align: right;\n",
       "    }\n",
       "</style>\n",
       "<table border=\"1\" class=\"dataframe\">\n",
       "  <thead>\n",
       "    <tr style=\"text-align: right;\">\n",
       "      <th></th>\n",
       "      <th>code_module</th>\n",
       "      <th>domain</th>\n",
       "      <th>presentations</th>\n",
       "      <th>students</th>\n",
       "    </tr>\n",
       "  </thead>\n",
       "  <tbody>\n",
       "    <tr>\n",
       "      <th>0</th>\n",
       "      <td>AAA</td>\n",
       "      <td>Social Sciences</td>\n",
       "      <td>2</td>\n",
       "      <td>748</td>\n",
       "    </tr>\n",
       "    <tr>\n",
       "      <th>1</th>\n",
       "      <td>BBB</td>\n",
       "      <td>Social Sciences</td>\n",
       "      <td>4</td>\n",
       "      <td>7909</td>\n",
       "    </tr>\n",
       "    <tr>\n",
       "      <th>2</th>\n",
       "      <td>CCC</td>\n",
       "      <td>STEM</td>\n",
       "      <td>2</td>\n",
       "      <td>4434</td>\n",
       "    </tr>\n",
       "    <tr>\n",
       "      <th>3</th>\n",
       "      <td>DDD</td>\n",
       "      <td>STEM</td>\n",
       "      <td>4</td>\n",
       "      <td>6272</td>\n",
       "    </tr>\n",
       "    <tr>\n",
       "      <th>4</th>\n",
       "      <td>EEE</td>\n",
       "      <td>STEM</td>\n",
       "      <td>3</td>\n",
       "      <td>2934</td>\n",
       "    </tr>\n",
       "    <tr>\n",
       "      <th>5</th>\n",
       "      <td>FFF</td>\n",
       "      <td>STEM</td>\n",
       "      <td>4</td>\n",
       "      <td>7762</td>\n",
       "    </tr>\n",
       "    <tr>\n",
       "      <th>6</th>\n",
       "      <td>GGG</td>\n",
       "      <td>Social Sciences</td>\n",
       "      <td>3</td>\n",
       "      <td>2534</td>\n",
       "    </tr>\n",
       "  </tbody>\n",
       "</table>\n",
       "</div>"
      ],
      "text/plain": [
       "  code_module           domain  presentations  students\n",
       "0         AAA  Social Sciences              2       748\n",
       "1         BBB  Social Sciences              4      7909\n",
       "2         CCC             STEM              2      4434\n",
       "3         DDD             STEM              4      6272\n",
       "4         EEE             STEM              3      2934\n",
       "5         FFF             STEM              4      7762\n",
       "6         GGG  Social Sciences              3      2534"
      ]
     },
     "execution_count": 3,
     "metadata": {},
     "output_type": "execute_result"
    }
   ],
   "source": [
    "registration_count = (\n",
    "    oulad.student_registration.groupby(\n",
    "        [\"code_module\", \"code_presentation\"], as_index=False\n",
    "    )\n",
    "    .count()\n",
    "    .groupby([\"code_module\"])\n",
    "    .agg(\n",
    "        presentations=pd.NamedAgg(column=\"code_presentation\", aggfunc=\"count\"),\n",
    "        students=pd.NamedAgg(column=\"id_student\", aggfunc=\"sum\"),\n",
    "    )\n",
    ")\n",
    "oulad.domains.join(registration_count, on=\"code_module\")"
   ]
  },
  {
   "cell_type": "markdown",
   "id": "b4928a27-bd3f-4b3a-a997-a0adab5c5ae2",
   "metadata": {},
   "source": [
    "### Student registration count by module-presentation"
   ]
  },
  {
   "cell_type": "code",
   "execution_count": 4,
   "id": "8e74999f-b62b-4889-a806-49f0e6f65e40",
   "metadata": {},
   "outputs": [
    {
     "data": {
      "text/html": [
       "<div>\n",
       "<style scoped>\n",
       "    .dataframe tbody tr th:only-of-type {\n",
       "        vertical-align: middle;\n",
       "    }\n",
       "\n",
       "    .dataframe tbody tr th {\n",
       "        vertical-align: top;\n",
       "    }\n",
       "\n",
       "    .dataframe thead th {\n",
       "        text-align: right;\n",
       "    }\n",
       "</style>\n",
       "<table border=\"1\" class=\"dataframe\">\n",
       "  <thead>\n",
       "    <tr style=\"text-align: right;\">\n",
       "      <th></th>\n",
       "      <th>code_module</th>\n",
       "      <th>code_presentation</th>\n",
       "      <th>0</th>\n",
       "    </tr>\n",
       "  </thead>\n",
       "  <tbody>\n",
       "    <tr>\n",
       "      <th>0</th>\n",
       "      <td>AAA</td>\n",
       "      <td>2013J</td>\n",
       "      <td>383</td>\n",
       "    </tr>\n",
       "    <tr>\n",
       "      <th>1</th>\n",
       "      <td>AAA</td>\n",
       "      <td>2014J</td>\n",
       "      <td>365</td>\n",
       "    </tr>\n",
       "    <tr>\n",
       "      <th>2</th>\n",
       "      <td>BBB</td>\n",
       "      <td>2013B</td>\n",
       "      <td>1767</td>\n",
       "    </tr>\n",
       "    <tr>\n",
       "      <th>3</th>\n",
       "      <td>BBB</td>\n",
       "      <td>2013J</td>\n",
       "      <td>2237</td>\n",
       "    </tr>\n",
       "    <tr>\n",
       "      <th>4</th>\n",
       "      <td>BBB</td>\n",
       "      <td>2014B</td>\n",
       "      <td>1613</td>\n",
       "    </tr>\n",
       "    <tr>\n",
       "      <th>5</th>\n",
       "      <td>BBB</td>\n",
       "      <td>2014J</td>\n",
       "      <td>2292</td>\n",
       "    </tr>\n",
       "    <tr>\n",
       "      <th>6</th>\n",
       "      <td>CCC</td>\n",
       "      <td>2014B</td>\n",
       "      <td>1936</td>\n",
       "    </tr>\n",
       "    <tr>\n",
       "      <th>7</th>\n",
       "      <td>CCC</td>\n",
       "      <td>2014J</td>\n",
       "      <td>2498</td>\n",
       "    </tr>\n",
       "    <tr>\n",
       "      <th>8</th>\n",
       "      <td>DDD</td>\n",
       "      <td>2013B</td>\n",
       "      <td>1303</td>\n",
       "    </tr>\n",
       "    <tr>\n",
       "      <th>9</th>\n",
       "      <td>DDD</td>\n",
       "      <td>2013J</td>\n",
       "      <td>1938</td>\n",
       "    </tr>\n",
       "    <tr>\n",
       "      <th>10</th>\n",
       "      <td>DDD</td>\n",
       "      <td>2014B</td>\n",
       "      <td>1228</td>\n",
       "    </tr>\n",
       "    <tr>\n",
       "      <th>11</th>\n",
       "      <td>DDD</td>\n",
       "      <td>2014J</td>\n",
       "      <td>1803</td>\n",
       "    </tr>\n",
       "    <tr>\n",
       "      <th>12</th>\n",
       "      <td>EEE</td>\n",
       "      <td>2013J</td>\n",
       "      <td>1052</td>\n",
       "    </tr>\n",
       "    <tr>\n",
       "      <th>13</th>\n",
       "      <td>EEE</td>\n",
       "      <td>2014B</td>\n",
       "      <td>694</td>\n",
       "    </tr>\n",
       "    <tr>\n",
       "      <th>14</th>\n",
       "      <td>EEE</td>\n",
       "      <td>2014J</td>\n",
       "      <td>1188</td>\n",
       "    </tr>\n",
       "    <tr>\n",
       "      <th>15</th>\n",
       "      <td>FFF</td>\n",
       "      <td>2013B</td>\n",
       "      <td>1614</td>\n",
       "    </tr>\n",
       "    <tr>\n",
       "      <th>16</th>\n",
       "      <td>FFF</td>\n",
       "      <td>2013J</td>\n",
       "      <td>2283</td>\n",
       "    </tr>\n",
       "    <tr>\n",
       "      <th>17</th>\n",
       "      <td>FFF</td>\n",
       "      <td>2014B</td>\n",
       "      <td>1500</td>\n",
       "    </tr>\n",
       "    <tr>\n",
       "      <th>18</th>\n",
       "      <td>FFF</td>\n",
       "      <td>2014J</td>\n",
       "      <td>2365</td>\n",
       "    </tr>\n",
       "    <tr>\n",
       "      <th>19</th>\n",
       "      <td>GGG</td>\n",
       "      <td>2013J</td>\n",
       "      <td>952</td>\n",
       "    </tr>\n",
       "    <tr>\n",
       "      <th>20</th>\n",
       "      <td>GGG</td>\n",
       "      <td>2014B</td>\n",
       "      <td>833</td>\n",
       "    </tr>\n",
       "    <tr>\n",
       "      <th>21</th>\n",
       "      <td>GGG</td>\n",
       "      <td>2014J</td>\n",
       "      <td>749</td>\n",
       "    </tr>\n",
       "  </tbody>\n",
       "</table>\n",
       "</div>"
      ],
      "text/plain": [
       "   code_module code_presentation     0\n",
       "0          AAA             2013J   383\n",
       "1          AAA             2014J   365\n",
       "2          BBB             2013B  1767\n",
       "3          BBB             2013J  2237\n",
       "4          BBB             2014B  1613\n",
       "5          BBB             2014J  2292\n",
       "6          CCC             2014B  1936\n",
       "7          CCC             2014J  2498\n",
       "8          DDD             2013B  1303\n",
       "9          DDD             2013J  1938\n",
       "10         DDD             2014B  1228\n",
       "11         DDD             2014J  1803\n",
       "12         EEE             2013J  1052\n",
       "13         EEE             2014B   694\n",
       "14         EEE             2014J  1188\n",
       "15         FFF             2013B  1614\n",
       "16         FFF             2013J  2283\n",
       "17         FFF             2014B  1500\n",
       "18         FFF             2014J  2365\n",
       "19         GGG             2013J   952\n",
       "20         GGG             2014B   833\n",
       "21         GGG             2014J   749"
      ]
     },
     "execution_count": 4,
     "metadata": {},
     "output_type": "execute_result"
    }
   ],
   "source": [
    "registration_count = oulad.student_registration.groupby(\n",
    "    [\"code_module\", \"code_presentation\"]\n",
    ").size()\n",
    "registration_count.reset_index()"
   ]
  },
  {
   "cell_type": "code",
   "execution_count": 5,
   "id": "9b5f8363-c034-4cd7-ab57-aafc4852a7c7",
   "metadata": {},
   "outputs": [
    {
     "name": "stdout",
     "output_type": "stream",
     "text": [
      "The largest module-presentation ('CCC', '2014J') contains 2498 student registrations.\n",
      "The smallest module-presentation ('AAA', '2014J') contains 365 student registrations. \n",
      "The average module-presentation registration count is 1481.5.\n"
     ]
    }
   ],
   "source": [
    "max_id = registration_count.idxmax()\n",
    "min_id = registration_count.idxmin()\n",
    "print(\n",
    "    f\"The largest module-presentation {max_id} contains \"\n",
    "    f\"{registration_count[max_id]} student registrations.\\n\"\n",
    "    f\"The smallest module-presentation {min_id} contains \"\n",
    "    f\"{registration_count[min_id]} student registrations. \\n\"\n",
    "    f\"The average module-presentation registration count is \"\n",
    "    f\"{registration_count.mean()}.\"\n",
    ")"
   ]
  },
  {
   "cell_type": "markdown",
   "id": "26be477d-ba21-4a0b-9d7e-38a70d868af9",
   "metadata": {},
   "source": [
    "### Student assessment count"
   ]
  },
  {
   "cell_type": "code",
   "execution_count": 6,
   "id": "e9778c2d-b2e2-4780-99fa-3ee589399818",
   "metadata": {},
   "outputs": [
    {
     "name": "stdout",
     "output_type": "stream",
     "text": [
      "The student_assessment table contains 173912 rows.\n",
      "The assessment tabel contains 24 Exams.\n",
      "4959 student_assessments are Exams.\n"
     ]
    }
   ],
   "source": [
    "exams = oulad.assessments[oulad.assessments.assessment_type == \"Exam\"]\n",
    "print(\n",
    "    f\"The student_assessment table contains {oulad.student_assessment.shape[0]} rows.\"\n",
    "    \"\\n\"\n",
    "    f\"The assessment tabel contains {exams.shape[0]} Exams.\\n\"\n",
    "    f\"{pd.merge(oulad.student_assessment, exams, on='id_assessment').shape[0]} \"\n",
    "    \"student_assessments are Exams.\"\n",
    ")"
   ]
  },
  {
   "cell_type": "markdown",
   "id": "35f26619-620b-4ada-964c-2ecf17caa039",
   "metadata": {},
   "source": [
    "### Student info attributes distribution for CCC module"
   ]
  },
  {
   "cell_type": "code",
   "execution_count": 7,
   "id": "4acb09c9-f37d-4bb4-89f7-f4e3f362adef",
   "metadata": {},
   "outputs": [
    {
     "data": {
      "image/png": "[encoded data removed]",
      "text/plain": [
       "<Figure size 864x1296 with 6 Axes>"
      ]
     },
     "metadata": {
      "needs_background": "light"
     },
     "output_type": "display_data"
    }
   ],
   "source": [
    "ccc_student_info = oulad.student_info[oulad.student_info.code_module == \"CCC\"].drop(\n",
    "    \"code_module\", axis=1\n",
    ")\n",
    "\n",
    "fig, axes = plt.subplots(nrows=3, ncols=2, figsize=(12, 18), constrained_layout=True)\n",
    "\n",
    "ccc_student_info.groupby([\"age_band\", \"final_result\"]).size().unstack().plot.bar(\n",
    "    stacked=True, ax=axes[0, 0], title=\"Student count by age_band\"\n",
    ")\n",
    "ccc_student_info.groupby([\"disability\", \"final_result\"]).size().unstack().plot.bar(\n",
    "    stacked=True, ax=axes[0, 1], title=\"Student count by disability\"\n",
    ")\n",
    "ccc_student_info.groupby(\n",
    "    [\"highest_education\", \"final_result\"]\n",
    ").size().unstack().plot.bar(\n",
    "    stacked=True, ax=axes[1, 0], title=\"Student count by highest_education\"\n",
    ")\n",
    "ccc_student_info.groupby([\"gender\", \"final_result\"]).size().unstack().plot.bar(\n",
    "    stacked=True, ax=axes[1, 1], title=\"Student count by gender\"\n",
    ")\n",
    "ccc_student_info.groupby([\"imd_band\", \"final_result\"]).size().unstack().plot.bar(\n",
    "    stacked=True, ax=axes[2, 0], title=\"Student count by imd_band\"\n",
    ")\n",
    "ccc_student_info.groupby([\"region\", \"final_result\"]).size().unstack().plot.bar(\n",
    "    stacked=True, ax=axes[2, 1], title=\"Student count by region\"\n",
    ")\n",
    "plt.show()"
   ]
  },
  {
   "cell_type": "markdown",
   "id": "cd590d34-0113-4599-af6b-b5b76b698771",
   "metadata": {},
   "source": [
    "## Notes\n",
    "\n",
    "- The inital total number of students in the selected modules was 38239.\n",
    "- Students in a module-presentation are organised into study groups of ~20 people.\n",
    "- Module resources are available from the VLE system a few weeks before the start.\n",
    "- If the final exam `date` is missing in the `assessments` table, it takes place\n",
    "  during the last week of the module-presentation.\n",
    "- The structure of B and J presentations may differ.\n",
    "- In the `student_registration` table if the `date_unregistration` field is present\n",
    "  the student has withdrawn.\n",
    "- If the student does not submit an assessment, no result is recorded.\n",
    "- Results of the final exam are usually missing.\n",
    "- An assessmnet score lower than 40 is interpreted as a failure."
   ]
  }
 ],
 "metadata": {
  "kernelspec": {
   "display_name": "Python 3 (ipykernel)",
   "language": "python",
   "name": "python3"
  },
  "language_info": {
   "codemirror_mode": {
    "name": "ipython",
    "version": 3
   },
   "file_extension": ".py",
   "mimetype": "text/x-python",
   "name": "python",
   "nbconvert_exporter": "python",
   "pygments_lexer": "ipython3",
   "version": "3.10.4"
  }
 },
 "nbformat": 4,
 "nbformat_minor": 5
}
