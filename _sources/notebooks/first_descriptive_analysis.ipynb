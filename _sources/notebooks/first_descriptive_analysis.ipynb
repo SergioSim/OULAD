{
 "cells": [
  {
   "cell_type": "markdown",
   "id": "584d88f0",
   "metadata": {
    "user_expressions": []
   },
   "source": [
    "# A first descriptive analysis\n",
    "\n",
    "One of the best ways to get started with the OULAD analysis might be to explore the\n",
    "original paper that introduced the OULAD dataset.\n",
    "{cite}`kuzilek_hlosta_zdrahal_2017`\n",
    "\n",
    "In this section we try to reproduce and summarize their findings.\n",
    "We also take some notes at the end which might be used later.\n",
    "\n",
    "```{bibliography}\n",
    ":filter: docname in docnames\n",
    "```"
   ]
  },
  {
   "cell_type": "code",
   "execution_count": null,
   "id": "14e9a8b4",
   "metadata": {},
   "outputs": [],
   "source": [
    "import matplotlib.pyplot as plt\n",
    "import pandas as pd\n",
    "\n",
    "from oulad import get_oulad\n",
    "\n",
    "oulad = get_oulad()"
   ]
  },
  {
   "cell_type": "markdown",
   "id": "33b0c6b6",
   "metadata": {
    "user_expressions": []
   },
   "source": [
    "## General statistics"
   ]
  },
  {
   "cell_type": "code",
   "execution_count": null,
   "id": "f5b9a6f3",
   "metadata": {},
   "outputs": [],
   "source": [
    "module_count = oulad.courses.code_module.nunique()\n",
    "print(\n",
    "    \"OULAD contains data about:\\n\"\n",
    "    f\"  - {oulad.courses.shape[0]} courses from {module_count} modules \"\n",
    "    \"(4 STEM modules and 3 Social Sciences modules)\\n\"\n",
    "    f\"  - {oulad.student_info.shape[0]} students\\n\"\n",
    "    f\"  - {oulad.student_registration.shape[0]} student registrations\\n\"\n",
    "    f\"  - {oulad.student_vle.shape[0]} VLE interaction entries\"\n",
    ")"
   ]
  },
  {
   "cell_type": "markdown",
   "id": "ea585760",
   "metadata": {
    "user_expressions": []
   },
   "source": [
    "### Student registration count by module with domain information"
   ]
  },
  {
   "cell_type": "code",
   "execution_count": null,
   "id": "fdf43a98",
   "metadata": {},
   "outputs": [],
   "source": [
    "registration_count = (\n",
    "    oulad.student_registration.groupby(\n",
    "        [\"code_module\", \"code_presentation\"], as_index=False\n",
    "    )\n",
    "    .count()\n",
    "    .groupby([\"code_module\"])\n",
    "    .agg(\n",
    "        presentations=pd.NamedAgg(column=\"code_presentation\", aggfunc=\"count\"),\n",
    "        students=pd.NamedAgg(column=\"id_student\", aggfunc=\"sum\"),\n",
    "    )\n",
    ")\n",
    "oulad.domains.join(registration_count, on=\"code_module\")"
   ]
  },
  {
   "cell_type": "markdown",
   "id": "6bdd136b",
   "metadata": {
    "user_expressions": []
   },
   "source": [
    "### Student registration count by module-presentation"
   ]
  },
  {
   "cell_type": "code",
   "execution_count": null,
   "id": "238f18b1",
   "metadata": {},
   "outputs": [],
   "source": [
    "registration_count = oulad.student_registration.groupby(\n",
    "    [\"code_module\", \"code_presentation\"]\n",
    ").size()\n",
    "registration_count.reset_index()"
   ]
  },
  {
   "cell_type": "code",
   "execution_count": null,
   "id": "d72b36c4",
   "metadata": {},
   "outputs": [],
   "source": [
    "max_id = registration_count.idxmax()\n",
    "min_id = registration_count.idxmin()\n",
    "print(\n",
    "    f\"The largest module-presentation {max_id} contains \"\n",
    "    f\"{registration_count[max_id]} student registrations.\\n\"\n",
    "    f\"The smallest module-presentation {min_id} contains \"\n",
    "    f\"{registration_count[min_id]} student registrations. \\n\"\n",
    "    f\"The average module-presentation registration count is \"\n",
    "    f\"{registration_count.mean()}.\"\n",
    ")"
   ]
  },
  {
   "cell_type": "markdown",
   "id": "65307446",
   "metadata": {
    "user_expressions": []
   },
   "source": [
    "### Student assessment count"
   ]
  },
  {
   "cell_type": "code",
   "execution_count": null,
   "id": "96c83a38",
   "metadata": {},
   "outputs": [],
   "source": [
    "exams = oulad.assessments[oulad.assessments.assessment_type == \"Exam\"]\n",
    "print(\n",
    "    f\"The student_assessment table contains {oulad.student_assessment.shape[0]} rows.\"\n",
    "    \"\\n\"\n",
    "    f\"The assessment tabel contains {exams.shape[0]} Exams.\\n\"\n",
    "    f\"{pd.merge(oulad.student_assessment, exams, on='id_assessment').shape[0]} \"\n",
    "    \"student_assessments are Exams.\"\n",
    ")"
   ]
  },
  {
   "cell_type": "markdown",
   "id": "52419fa3",
   "metadata": {
    "user_expressions": []
   },
   "source": [
    "### Student info attributes distribution for CCC module"
   ]
  },
  {
   "cell_type": "code",
   "execution_count": null,
   "id": "cc9efd7d",
   "metadata": {},
   "outputs": [],
   "source": [
    "ccc_student_info = oulad.student_info[oulad.student_info.code_module == \"CCC\"].drop(\n",
    "    \"code_module\", axis=1\n",
    ")\n",
    "\n",
    "fig, axes = plt.subplots(nrows=3, ncols=2, figsize=(12, 18), constrained_layout=True)\n",
    "\n",
    "ccc_student_info.groupby([\"age_band\", \"final_result\"]).size().unstack().plot.bar(\n",
    "    stacked=True, ax=axes[0, 0], title=\"Student count by age_band\"\n",
    ")\n",
    "ccc_student_info.groupby([\"disability\", \"final_result\"]).size().unstack().plot.bar(\n",
    "    stacked=True, ax=axes[0, 1], title=\"Student count by disability\"\n",
    ")\n",
    "ccc_student_info.groupby(\n",
    "    [\"highest_education\", \"final_result\"]\n",
    ").size().unstack().plot.bar(\n",
    "    stacked=True, ax=axes[1, 0], title=\"Student count by highest_education\"\n",
    ")\n",
    "ccc_student_info.groupby([\"gender\", \"final_result\"]).size().unstack().plot.bar(\n",
    "    stacked=True, ax=axes[1, 1], title=\"Student count by gender\"\n",
    ")\n",
    "ccc_student_info.groupby([\"imd_band\", \"final_result\"]).size().unstack().plot.bar(\n",
    "    stacked=True, ax=axes[2, 0], title=\"Student count by imd_band\"\n",
    ")\n",
    "ccc_student_info.groupby([\"region\", \"final_result\"]).size().unstack().plot.bar(\n",
    "    stacked=True, ax=axes[2, 1], title=\"Student count by region\"\n",
    ")\n",
    "plt.show()"
   ]
  },
  {
   "cell_type": "markdown",
   "id": "3d5df9d2",
   "metadata": {
    "user_expressions": []
   },
   "source": [
    "## Notes\n",
    "\n",
    "- The initial total number of students in the selected modules was 38239.\n",
    "- Students in a module presentation are organized into study groups of ~20 people.\n",
    "- Module resources are available from the VLE system a few weeks before the start.\n",
    "- If the final exam `date` is missing in the `assessments` table, it takes place\n",
    "  during the last week of the module presentation.\n",
    "- The structure of B and J presentations may differ.\n",
    "- In the `student_registration` table, the student has withdrawn if the\n",
    "  `date_unregistration` field is present.\n",
    "- If the student does not submit an assessment, no result is recorded.\n",
    "- The results of the final exam are usually missing.\n",
    "- An assessment score lower than 40 is interpreted as a failure."
   ]
  }
 ],
 "metadata": {
  "kernelspec": {
   "display_name": "Python 3 (ipykernel)",
   "language": "python",
   "name": "python3"
  }
 },
 "nbformat": 4,
 "nbformat_minor": 5
}
