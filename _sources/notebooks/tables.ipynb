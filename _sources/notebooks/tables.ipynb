{
 "cells": [
  {
   "cell_type": "markdown",
   "id": "20eeacc0",
   "metadata": {},
   "source": [
    "# Tables of the OULAD dataset\n",
    "\n",
    "Let's take a first look at the OULAD tables."
   ]
  },
  {
   "cell_type": "code",
   "execution_count": null,
   "id": "2a3fd332",
   "metadata": {},
   "outputs": [],
   "source": [
    "from IPython.display import display\n",
    "\n",
    "from oulad import get_oulad\n",
    "\n",
    "# Load the OULAD dataset in memory\n",
    "oulad = get_oulad()"
   ]
  },
  {
   "cell_type": "markdown",
   "id": "2ef30dd4",
   "metadata": {},
   "source": [
    "## Assessments"
   ]
  },
  {
   "cell_type": "code",
   "execution_count": null,
   "id": "34ba4104",
   "metadata": {},
   "outputs": [],
   "source": [
    "display(oulad.assessments)"
   ]
  },
  {
   "cell_type": "markdown",
   "id": "b7202b84",
   "metadata": {},
   "source": [
    "## Courses"
   ]
  },
  {
   "cell_type": "code",
   "execution_count": null,
   "id": "4ab761a8",
   "metadata": {},
   "outputs": [],
   "source": [
    "display(oulad.courses)"
   ]
  },
  {
   "cell_type": "markdown",
   "id": "c438cc40",
   "metadata": {},
   "source": [
    "## Domains"
   ]
  },
  {
   "cell_type": "code",
   "execution_count": null,
   "id": "0dc55e2f",
   "metadata": {},
   "outputs": [],
   "source": [
    "display(oulad.domains)"
   ]
  },
  {
   "cell_type": "markdown",
   "id": "bf260a97",
   "metadata": {},
   "source": [
    "## Student Assessment"
   ]
  },
  {
   "cell_type": "code",
   "execution_count": null,
   "id": "396dc4d3",
   "metadata": {},
   "outputs": [],
   "source": [
    "display(oulad.student_assessment)"
   ]
  },
  {
   "cell_type": "markdown",
   "id": "50d1201f",
   "metadata": {},
   "source": [
    "## Student Info"
   ]
  },
  {
   "cell_type": "code",
   "execution_count": null,
   "id": "a2071862",
   "metadata": {},
   "outputs": [],
   "source": [
    "display(oulad.student_info)"
   ]
  },
  {
   "cell_type": "markdown",
   "id": "c0ec03c9",
   "metadata": {},
   "source": [
    "## Student Registration"
   ]
  },
  {
   "cell_type": "code",
   "execution_count": null,
   "id": "26b06f31",
   "metadata": {},
   "outputs": [],
   "source": [
    "display(oulad.student_registration)"
   ]
  },
  {
   "cell_type": "markdown",
   "id": "e4ec4ad5",
   "metadata": {},
   "source": [
    "## Student VLE"
   ]
  },
  {
   "cell_type": "code",
   "execution_count": null,
   "id": "badea36e",
   "metadata": {},
   "outputs": [],
   "source": [
    "display(oulad.student_vle)"
   ]
  },
  {
   "cell_type": "markdown",
   "id": "da7a29e9",
   "metadata": {},
   "source": [
    "## VLE"
   ]
  },
  {
   "cell_type": "code",
   "execution_count": null,
   "id": "f6433991",
   "metadata": {},
   "outputs": [],
   "source": [
    "display(oulad.vle)"
   ]
  }
 ],
 "metadata": {
  "kernelspec": {
   "display_name": "Python 3 (ipykernel)",
   "language": "python",
   "name": "python3"
  }
 },
 "nbformat": 4,
 "nbformat_minor": 5
}
